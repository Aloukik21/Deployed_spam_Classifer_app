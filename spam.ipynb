{
 "cells": [
  {
   "cell_type": "code",
   "execution_count": 52,
   "id": "a38cb196",
   "metadata": {},
   "outputs": [
    {
     "name": "stderr",
     "output_type": "stream",
     "text": [
      "[nltk_data] Downloading package stopwords to\n",
      "[nltk_data]     C:\\Users\\aadit\\AppData\\Roaming\\nltk_data...\n",
      "[nltk_data]   Package stopwords is already up-to-date!\n"
     ]
    }
   ],
   "source": [
    "import streamlit as st\n",
    "import pandas as pd\n",
    "import numpy as np\n",
    "import re\n",
    "import nltk\n",
    "import sklearn\n",
    "from sklearn.feature_extraction.text import CountVectorizer\n",
    "from sklearn.model_selection import train_test_split\n",
    "from sklearn.naive_bayes import MultinomialNB\n",
    "from sklearn.metrics import accuracy_score,classification_report,confusion_matrix\n",
    "nltk.download('stopwords')\n",
    "from nltk.corpus import stopwords\n",
    "import string"
   ]
  },
  {
   "cell_type": "code",
   "execution_count": 53,
   "id": "07a75974",
   "metadata": {},
   "outputs": [],
   "source": [
    "#nlp model\n",
    "df=pd.read_csv(r'spam.csv',encoding='ISO-8859-1')\n",
    "df = df.iloc[:,0:2]\n",
    "df = df.rename(columns = {'v1':'labels', 'v2':\"Text\"})\n",
    "df.drop_duplicates(inplace = True)\n",
    "df['labels'] = df['labels'].map({'ham':0, 'spam':1})\n",
    "\n",
    "\n",
    "def clean_data(message):\n",
    "    message_without_punc=[character for character in message if character not in string.punctuation]\n",
    "    message_without_punc=''.join(message_without_punc)\n",
    "    seperator= ' '\n",
    "    return seperator.join([word for word in message_without_punc.split() if word.lower() not in stopwords.words('english')])"
   ]
  },
  {
   "cell_type": "code",
   "execution_count": 55,
   "id": "842bcef7",
   "metadata": {},
   "outputs": [],
   "source": [
    "df['Text']=df['Text'].apply(clean_data)\n",
    "x=df['Text']\n",
    "y=df['labels']\n",
    "cv=CountVectorizer()\n",
    "x=cv.fit_transform(x)"
   ]
  },
  {
   "cell_type": "code",
   "execution_count": 61,
   "id": "7c1ea296",
   "metadata": {},
   "outputs": [
    {
     "name": "stdout",
     "output_type": "stream",
     "text": [
      "0.965183752417795\n",
      "              precision    recall  f1-score   support\n",
      "\n",
      "           0       0.99      0.97      0.98       885\n",
      "           1       0.85      0.92      0.88       149\n",
      "\n",
      "    accuracy                           0.97      1034\n",
      "   macro avg       0.92      0.95      0.93      1034\n",
      "weighted avg       0.97      0.97      0.97      1034\n",
      "\n",
      "[[861  24]\n",
      " [ 12 137]]\n"
     ]
    }
   ],
   "source": [
    "x_train,x_test,y_train,y_test=train_test_split(x, y,test_size=0.2,random_state=0)\n",
    "model=MultinomialNB().fit(x_train,y_train)\n",
    "predictions=model.predict(x_test)\n",
    "print(accuracy_score(y_test,predictions))\n",
    "print(classification_report(y_test,predictions))\n",
    "print(confusion_matrix(y_test,predictions))"
   ]
  },
  {
   "cell_type": "code",
   "execution_count": 58,
   "id": "be19a5bd",
   "metadata": {},
   "outputs": [],
   "source": [
    "def predict(text):\n",
    "    labels= ['Not Spam','Spam']\n",
    "    x=cv.transform(text).toarray()\n",
    "    p=model.predict(x)\n",
    "    s=[str(i) for i in p]\n",
    "    v=int(''.join(s))\n",
    "    return str('This message is looking to be: '+labels[v])\n",
    "    "
   ]
  },
  {
   "cell_type": "code",
   "execution_count": 60,
   "id": "84832cee",
   "metadata": {},
   "outputs": [],
   "source": [
    "st.title('Spam Classifier')\n",
    "st.image('image.jpg')\n",
    "user_input=st.text_input('Write your message')\n",
    "submit=st.button('Predict')\n",
    "if submit:\n",
    "    answer=predict([user_input])\n",
    "    st.text(answer)"
   ]
  },
  {
   "cell_type": "code",
   "execution_count": null,
   "id": "2450ca6b",
   "metadata": {},
   "outputs": [],
   "source": []
  }
 ],
 "metadata": {
  "kernelspec": {
   "display_name": "Python 3 (ipykernel)",
   "language": "python",
   "name": "python3"
  },
  "language_info": {
   "codemirror_mode": {
    "name": "ipython",
    "version": 3
   },
   "file_extension": ".py",
   "mimetype": "text/x-python",
   "name": "python",
   "nbconvert_exporter": "python",
   "pygments_lexer": "ipython3",
   "version": "3.7.9"
  }
 },
 "nbformat": 4,
 "nbformat_minor": 5
}
